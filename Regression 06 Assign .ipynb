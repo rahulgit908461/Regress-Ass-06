{
 "cells": [
  {
   "cell_type": "code",
   "execution_count": 1,
   "id": "c715569a-e0b2-40fe-98ab-5f82e6b1c9af",
   "metadata": {},
   "outputs": [],
   "source": [
    "#Q1. What are the key steps involved in building an end-to-end web application, from development to\n",
    "#deployment on the cloud?"
   ]
  },
  {
   "cell_type": "code",
   "execution_count": 2,
   "id": "e264f99f-df20-4442-a561-b11fbbb21f95",
   "metadata": {},
   "outputs": [],
   "source": [
    "#Define the problem you are solving. ...\n",
    "#Plan the workflow of your web application. ...\n",
    "#Wireframe/prototype your web application. ...\n",
    "#Receive Validation. ...\n",
    "#Choose your firepower. ...\n",
    "#Build your web application. ...\n",
    "#Test your web application. ...\n",
    "#Host and deploy your web application."
   ]
  },
  {
   "cell_type": "code",
   "execution_count": 4,
   "id": "780f5aee-eca9-402b-8eed-85a4644a39ff",
   "metadata": {},
   "outputs": [],
   "source": [
    "#Q2. Explain the difference between traditional web hosting and cloud hosting."
   ]
  },
  {
   "cell_type": "code",
   "execution_count": 5,
   "id": "b84a3a2d-9e82-46ac-9179-397654b156f8",
   "metadata": {},
   "outputs": [],
   "source": [
    "#Web hosting allows individuals and businesses to make their websites accessible worldwide through the Internet (WWW). A business or individual\n",
    "#must have their own computer or server for web hosting, however, under Cloud Hosting, websites are hosted on multiple interconnected web \n",
    "#servers."
   ]
  },
  {
   "cell_type": "code",
   "execution_count": 6,
   "id": "526fb355-fa98-48d3-9471-69a835d1601c",
   "metadata": {},
   "outputs": [],
   "source": [
    "#Q3. How do you choose the right cloud provider for your application deployment, and what factors\n",
    "#should you consider?"
   ]
  },
  {
   "cell_type": "code",
   "execution_count": 7,
   "id": "cd777a7c-0054-449a-8158-730b29c3e348",
   "metadata": {},
   "outputs": [],
   "source": [
    "#Certifications & Standards.\n",
    "#Technologies & Service Roadmap.\n",
    "#Data Security, Data Governance and Business policies.\n",
    "#Service Dependencies & Partnerships.\n",
    "#Contracts, Commercials & SLAs.\n",
    "#Reliability & Performance."
   ]
  },
  {
   "cell_type": "code",
   "execution_count": 8,
   "id": "b08d5d74-2602-4dc8-9cda-8a64616bef4f",
   "metadata": {},
   "outputs": [],
   "source": [
    "#Q4. How do you design and build a responsive user interface for your web application, and what are\n",
    "#some best practices to follow?"
   ]
  },
  {
   "cell_type": "code",
   "execution_count": 9,
   "id": "7f1f89a6-f994-43e8-a69c-1680cda8b0e5",
   "metadata": {},
   "outputs": [],
   "source": [
    "#Set Appropriate Responsive Breakpoints.\n",
    "#Start with a Fluid Grid.\n",
    "#Take touchscreens into consideration.\n",
    "#Define Typography.\n",
    "#Use a pre-designed theme or layout to save time.\n",
    "#Test Responsiveness on Real Devices."
   ]
  },
  {
   "cell_type": "code",
   "execution_count": 10,
   "id": "954d49d6-4472-413b-9041-fdebb9feecca",
   "metadata": {},
   "outputs": [],
   "source": [
    "#Q5. How do you integrate the machine learning model with the user interface for the Algerian Forest Fires\n",
    "#project(which we discussed in class), and what APIs or libraries can you use for this purpose?"
   ]
  },
  {
   "cell_type": "code",
   "execution_count": null,
   "id": "627214ba-e423-45fb-aeb6-b648738ba108",
   "metadata": {},
   "outputs": [],
   "source": [
    "#Table of content\n",
    "#Importing necessary libraries\n",
    "#Exploratory data analysis\n",
    "#Data cleaning\n",
    "#Model development (RandomForestRegressor)\n",
    "Tuning the model (RandomSearchCV)\n",
    "bz2 module (big bonus)\n",
    "Importing libraries\n",
    "import datetime as dt\n",
    "\n",
    "import pandas as pd\n",
    "import numpy as np\n",
    "import seaborn as sns\n",
    "import matplotlib.pyplot as plt\n",
    "%matplotlib inline \n",
    "\n",
    "from sklearn.model_selection import train_test_split\n",
    "from sklearn.metrics import accuracy_score, classification_report\n",
    "from sklearn.ensemble import RandomForestRegressor"
   ]
  }
 ],
 "metadata": {
  "kernelspec": {
   "display_name": "Python 3 (ipykernel)",
   "language": "python",
   "name": "python3"
  },
  "language_info": {
   "codemirror_mode": {
    "name": "ipython",
    "version": 3
   },
   "file_extension": ".py",
   "mimetype": "text/x-python",
   "name": "python",
   "nbconvert_exporter": "python",
   "pygments_lexer": "ipython3",
   "version": "3.10.8"
  }
 },
 "nbformat": 4,
 "nbformat_minor": 5
}
